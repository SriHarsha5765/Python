{
 "cells": [
  {
   "cell_type": "code",
   "execution_count": 2,
   "id": "21360fe2-6e38-42f6-95c6-75aa47ad3e6c",
   "metadata": {},
   "outputs": [
    {
     "data": {
      "text/plain": [
       "'asdfghjk'"
      ]
     },
     "execution_count": 2,
     "metadata": {},
     "output_type": "execute_result"
    }
   ],
   "source": [
    "x=\"ASDFGHJK\"\n",
    "x.lower()"
   ]
  },
  {
   "cell_type": "code",
   "execution_count": 1,
   "id": "83130262-6df6-4ea6-aecf-101881a19272",
   "metadata": {},
   "outputs": [
    {
     "name": "stdout",
     "output_type": "stream",
     "text": [
      "Given a string ASDFGHJK\n",
      "aSdFgHjK\n"
     ]
    }
   ],
   "source": [
    "x=input(\"Given a string \")\n",
    "b=\"\"\n",
    "for y in range(0,len(x)):\n",
    "    if y%2==0:\n",
    "        b+=x[y].lower()\n",
    "    else:\n",
    "        b+=x[y]\n",
    "print(b)"
   ]
  },
  {
   "cell_type": "code",
   "execution_count": 2,
   "id": "c3fbb8a4-8fd7-4bbf-8ed7-c52dfcd87da5",
   "metadata": {},
   "outputs": [
    {
     "name": "stdout",
     "output_type": "stream",
     "text": [
      "Given a string QWERTY\n",
      "QwErTy\n"
     ]
    }
   ],
   "source": [
    "x=input(\"Given a string \")\n",
    "b=\"\"\n",
    "for y in range(0,len(x)):\n",
    "    if y%2!=0:\n",
    "        b+=x[y].lower()\n",
    "    else:\n",
    "        b+=x[y]\n",
    "print(b)"
   ]
  },
  {
   "cell_type": "code",
   "execution_count": 10,
   "id": "c933c069",
   "metadata": {},
   "outputs": [
    {
     "name": "stdout",
     "output_type": "stream",
     "text": [
      "My name K.V Sri Harsha\n",
      "Gender Male\n",
      "My age is 24\n",
      "My phone number is 87654321854\n",
      "My father's name is Ramesh\n",
      "My mother's name is Rekha\n"
     ]
    }
   ],
   "source": [
    "a=input(\"My name \")\n",
    "b=input(\"Gender \")\n",
    "c=int(input(\"My age is \"))\n",
    "d=int(input(\"My phone number is \"))\n",
    "e=input(\"My father's name is \")\n",
    "f=input(\"My mother's name is \")"
   ]
  },
  {
   "cell_type": "code",
   "execution_count": 11,
   "id": "f6610ae6",
   "metadata": {},
   "outputs": [
    {
     "name": "stdout",
     "output_type": "stream",
     "text": [
      "My name is K.V Sri Harsha\n",
      "gender is Male\n",
      " My age is My 24\n",
      " my phone number is 87654321854\n",
      " my father's name is Ramesh\n",
      " My mother's name is Rekha\n"
     ]
    }
   ],
   "source": [
    "Biodata= \"My name is {}\\ngender is {}\\n My age is My {}\\n my phone number is {}\\n my father's name is {}\\n My mother's name is {}\"\n",
    "print(Biodata.format(a,b,c,d,e,f))\n"
   ]
  },
  {
   "cell_type": "code",
   "execution_count": 14,
   "id": "c376a79c",
   "metadata": {},
   "outputs": [
    {
     "data": {
      "text/plain": [
       "10"
      ]
     },
     "execution_count": 14,
     "metadata": {},
     "output_type": "execute_result"
    }
   ],
   "source": [
    "p=\"dfghj@@@@@xcvb@@@@@\"\n",
    "p.count(\"@\")"
   ]
  },
  {
   "cell_type": "code",
   "execution_count": 37,
   "id": "0607f1c7",
   "metadata": {},
   "outputs": [
    {
     "ename": "SyntaxError",
     "evalue": "invalid syntax (2224988507.py, line 5)",
     "output_type": "error",
     "traceback": [
      "\u001b[1;36m  Cell \u001b[1;32mIn[37], line 5\u001b[1;36m\u001b[0m\n\u001b[1;33m    print (x[0:6])/n print(y[0:4])/n print(z[0:5])\u001b[0m\n\u001b[1;37m                     ^\u001b[0m\n\u001b[1;31mSyntaxError\u001b[0m\u001b[1;31m:\u001b[0m invalid syntax\n"
     ]
    }
   ],
   "source": [
    "x=\"harsha@gmail.com\"\n",
    "y=\"balu@gmail.com\"\n",
    "z=\"kiste@gmail.com\"\n",
    "\n",
    "print (x[0:6])/n print(y[0:4])/n print(z[0:5])"
   ]
  },
  {
   "cell_type": "code",
   "execution_count": 45,
   "id": "fbc37c0f",
   "metadata": {},
   "outputs": [],
   "source": [
    "x=\"mynameissan\"\n",
    "p=x[4:7]\n"
   ]
  },
  {
   "cell_type": "code",
   "execution_count": 43,
   "id": "21734b88",
   "metadata": {},
   "outputs": [
    {
     "data": {
      "text/plain": [
       "'mei'"
      ]
     },
     "execution_count": 43,
     "metadata": {},
     "output_type": "execute_result"
    }
   ],
   "source": [
    "str(p)"
   ]
  },
  {
   "cell_type": "code",
   "execution_count": 13,
   "id": "b54ae0b1",
   "metadata": {},
   "outputs": [],
   "source": [
    "str1=\"myn\"\n",
    "str2=\"sa\"\n",
    "str3=str(str1[0]+str2[0:]+str1[1:])\n",
    "\n",
    "var=(str3)\n"
   ]
  },
  {
   "cell_type": "code",
   "execution_count": 14,
   "id": "ba731605",
   "metadata": {},
   "outputs": [
    {
     "data": {
      "text/plain": [
       "'msayn'"
      ]
     },
     "execution_count": 14,
     "metadata": {},
     "output_type": "execute_result"
    }
   ],
   "source": [
    "str(str3)"
   ]
  },
  {
   "cell_type": "code",
   "execution_count": 15,
   "id": "6791290b",
   "metadata": {},
   "outputs": [
    {
     "name": "stdout",
     "output_type": "stream",
     "text": [
      "Enetr a string: sdfghjkuoiuiouio\n",
      "sdfghjk\n"
     ]
    }
   ],
   "source": [
    "x=input(\"Enetr a string: \")\n",
    "z=list(x)\n",
    "a=\"\"\n",
    "for y in range(0,len(x)):\n",
    "    if z[y]==\"a\" or z[y]==\"e\" or z[y]==\"i\" or z[y]==\"o\" or z[y]==\"u\" or z[y]==\"A\" or z[y]==\"E\" or z[y]==\"I\" or z[y]==\"O\" or z[y]==\"U\":\n",
    "        a+=\"\"\n",
    "    else:\n",
    "        a+=str(z[y])\n",
    "print(a)"
   ]
  },
  {
   "cell_type": "code",
   "execution_count": null,
   "id": "5bb6433b",
   "metadata": {},
   "outputs": [],
   "source": []
  }
 ],
 "metadata": {
  "kernelspec": {
   "display_name": "Python 3 (ipykernel)",
   "language": "python",
   "name": "python3"
  },
  "language_info": {
   "codemirror_mode": {
    "name": "ipython",
    "version": 3
   },
   "file_extension": ".py",
   "mimetype": "text/x-python",
   "name": "python",
   "nbconvert_exporter": "python",
   "pygments_lexer": "ipython3",
   "version": "3.10.9"
  }
 },
 "nbformat": 4,
 "nbformat_minor": 5
}
