{
 "cells": [
  {
   "cell_type": "code",
   "execution_count": null,
   "id": "cfb8551e",
   "metadata": {},
   "outputs": [],
   "source": [
    "calculator_on = True\n",
    "\n",
    "while calculator_on:\n",
    "    p = int(input(\"Enter the first number: \"))\n",
    "    symbol = input(\"Enter an operator (+, -, *, /, //, %, **): \")\n",
    "    q = int(input(\"Enter the second number: \"))\n",
    "\n",
    "    if symbol == \"+\":\n",
    "        print(p + q)\n",
    "    elif symbol == \"-\":\n",
    "        print(p - q)\n",
    "    elif symbol == \"*\":\n",
    "        print(p * q)\n",
    "    elif symbol == \"/\":\n",
    "        print(p / q)\n",
    "    elif symbol == \"//\":\n",
    "        print(p // q)\n",
    "    elif symbol == \"%\":\n",
    "        print(p % q)\n",
    "    elif symbol == \"**\":\n",
    "        print(p ** q)\n",
    "    else:\n",
    "        print(\"Invalid operator!\")\n",
    "\n",
    "    stop = input(\"Enter 'stop' to turn off the calculator or any other key to continue: \")\n",
    "    if stop == \"stop\":\n",
    "        calculator_on = False\n",
    "\n",
    "print(\"Calculator turned off.\")\n"
   ]
  },
  {
   "cell_type": "code",
   "execution_count": null,
   "id": "3752bd58",
   "metadata": {},
   "outputs": [],
   "source": []
  }
 ],
 "metadata": {
  "kernelspec": {
   "display_name": "Python 3 (ipykernel)",
   "language": "python",
   "name": "python3"
  },
  "language_info": {
   "codemirror_mode": {
    "name": "ipython",
    "version": 3
   },
   "file_extension": ".py",
   "mimetype": "text/x-python",
   "name": "python",
   "nbconvert_exporter": "python",
   "pygments_lexer": "ipython3",
   "version": "3.10.9"
  }
 },
 "nbformat": 4,
 "nbformat_minor": 5
}
