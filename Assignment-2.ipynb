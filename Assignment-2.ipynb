{
 "cells": [
  {
   "cell_type": "code",
   "execution_count": 29,
   "id": "5fc04900",
   "metadata": {},
   "outputs": [
    {
     "name": "stdout",
     "output_type": "stream",
     "text": [
      "Type your number: 6\n",
      "type your number: 6\n",
      "Multiplication: 504\n",
      "Division: 6.222222222222222\n"
     ]
    }
   ],
   "source": [
    "#1.Write a program to accept two numbers from the user and calculate multiplication, division \n",
    "Firstnumber=int(input(\"Type your number: \"))\n",
    "Lastnumber=int(input(\"type your number: \"))\n",
    "operator=(\"*\",\"/\")\n",
    "for y in range(1):\n",
    "    print(\"Multiplication: \" + str(First_number*Last_number))\n",
    "    print(\"Division: \" + str(First_number/Last_number))"
   ]
  },
  {
   "cell_type": "code",
   "execution_count": 2,
   "id": "42c202b3",
   "metadata": {},
   "outputs": [
    {
     "name": "stdout",
     "output_type": "stream",
     "text": [
      "a\n",
      "c\n",
      "e\n",
      "g\n",
      "aceg\n"
     ]
    }
   ],
   "source": [
    "#2.Write a python program to print the characters from a string that are present at an even index \n",
    "\n",
    "x= \"abcdefgh\"\n",
    "\n",
    "z=x[0::2]\n",
    "\n",
    "for y in range(0,len(x),2):\n",
    "        print(x[y])\n",
    "        \n",
    "print(z)"
   ]
  },
  {
   "cell_type": "code",
   "execution_count": 3,
   "id": "0d42bf3b",
   "metadata": {},
   "outputs": [
    {
     "name": "stdout",
     "output_type": "stream",
     "text": [
      "b\n",
      "d\n",
      "f\n",
      "h\n",
      "bdfh\n"
     ]
    }
   ],
   "source": [
    "#3.Write a python program to print the characters from a string that are present at an odd index \n",
    "x= \"abcdefgh\"\n",
    "\n",
    "z=x[1::2]\n",
    "\n",
    "for y in range(1,len(x),2):\n",
    "        print(x[y])\n",
    "        \n",
    "print(z)"
   ]
  },
  {
   "cell_type": "code",
   "execution_count": 4,
   "id": "6dc92da5",
   "metadata": {},
   "outputs": [
    {
     "name": "stdout",
     "output_type": "stream",
     "text": [
      "Type your number: 8\n",
      "type your number: 9\n",
      "Division: -1\n"
     ]
    }
   ],
   "source": [
    "#4.\"\"\"Write a python program which will print the sum of the 2 numbers if the 2 numbers are even or it will print the difference of two numbers\"\"\"\n",
    "First_num=int(input(\"Type your number: \"))\n",
    "Last_num=int(input(\"type your number: \"))\n",
    "operator=(\"+\",\"-\")\n",
    "\n",
    "if First_num%2==0 and Last_num%2==0:\n",
    "    print(\"Addition: \" + str(First_num+Last_num))\n",
    "else:\n",
    "    print(\"Division: \" + str(First_num-Last_num))"
   ]
  },
  {
   "cell_type": "code",
   "execution_count": 5,
   "id": "09474d85",
   "metadata": {},
   "outputs": [
    {
     "data": {
      "text/plain": [
       "'FiBoNaCcI'"
      ]
     },
     "execution_count": 5,
     "metadata": {},
     "output_type": "execute_result"
    }
   ],
   "source": [
    "#5. Write a python program to convert all even indexed alphabets to upper and odd indexed char \n",
    "var6= \"fibonacci\"\n",
    "\n",
    "var6[0].upper()+var6[1].lower()+var6[2].upper()+var6[3].lower()+var6[4].upper()+var6[5].lower()+var6[6].upper()\\\n",
    "+var6[7].lower()+var6[8].upper()"
   ]
  },
  {
   "cell_type": "code",
   "execution_count": 6,
   "id": "e1fb2ff9",
   "metadata": {},
   "outputs": [
    {
     "name": "stdout",
     "output_type": "stream",
     "text": [
      "type any number: 7\n",
      "False\n"
     ]
    }
   ],
   "source": [
    "#6.Write a python program which will print True if the input number is divisible by 5 or else False\n",
    "num=int(input(\"type any number: \"))\n",
    "if num%5==0:\n",
    "    print(\"divisible by 5 or not: \" + str(True))\n",
    "else: print(False)"
   ]
  },
  {
   "cell_type": "code",
   "execution_count": 7,
   "id": "bd9751a6",
   "metadata": {},
   "outputs": [
    {
     "name": "stdout",
     "output_type": "stream",
     "text": [
      "Type your number: 56\n",
      "type your number: 9\n",
      "65\n"
     ]
    }
   ],
   "source": [
    "#7.Given two integer numbers return their product only if the product is greater than 1000, else return their sum \n",
    "First_number=int(input(\"Type your number: \"))\n",
    "Last_number=int(input(\"type your number: \"))\n",
    "y= First_number*Last_number\n",
    "z= First_number+Last_number\n",
    "if y>1000:\n",
    "    print(y)\n",
    "else: print(z)"
   ]
  },
  {
   "cell_type": "code",
   "execution_count": 8,
   "id": "a2a4a1a0",
   "metadata": {},
   "outputs": [
    {
     "name": "stdout",
     "output_type": "stream",
     "text": [
      "pjtvos\n"
     ]
    }
   ],
   "source": [
    "#8.Given 2 strings x, y write a program to return a new string made of x and y’s first, middle, and last characters\n",
    "x= \"pytho\"\n",
    "y= \"javas\"\n",
    "z= x[0]+y[0]+x[2]+y[2]+x[4]+y[4]\n",
    "print(z)"
   ]
  },
  {
   "cell_type": "code",
   "execution_count": 14,
   "id": "638d45fb",
   "metadata": {},
   "outputs": [
    {
     "name": "stdout",
     "output_type": "stream",
     "text": [
      "Enter three names: ram, raju, ravi\n"
     ]
    },
    {
     "ename": "NameError",
     "evalue": "name 'person1' is not defined",
     "output_type": "error",
     "traceback": [
      "\u001b[1;31m---------------------------------------------------------------------------\u001b[0m",
      "\u001b[1;31mNameError\u001b[0m                                 Traceback (most recent call last)",
      "Cell \u001b[1;32mIn[14], line 3\u001b[0m\n\u001b[0;32m      1\u001b[0m \u001b[38;5;66;03m#9. Write a python program to take three names as input from a user in the single input () function call\u001b[39;00m\n\u001b[0;32m      2\u001b[0m names \u001b[38;5;241m=\u001b[39m \u001b[38;5;28minput\u001b[39m(\u001b[38;5;124m\"\u001b[39m\u001b[38;5;124mEnter three names: \u001b[39m\u001b[38;5;124m\"\u001b[39m)\u001b[38;5;241m.\u001b[39msplit()\n\u001b[1;32m----> 3\u001b[0m names[:\u001b[38;5;241m3\u001b[39m] \u001b[38;5;241m=\u001b[39m \u001b[43mperson1\u001b[49m, person2, person3\n\u001b[0;32m      5\u001b[0m \u001b[38;5;28mprint\u001b[39m(\u001b[38;5;124m\"\u001b[39m\u001b[38;5;124mName 1:\u001b[39m\u001b[38;5;124m\"\u001b[39m, person1)\n\u001b[0;32m      6\u001b[0m \u001b[38;5;28mprint\u001b[39m(\u001b[38;5;124m\"\u001b[39m\u001b[38;5;124mName 2:\u001b[39m\u001b[38;5;124m\"\u001b[39m, person2)\n",
      "\u001b[1;31mNameError\u001b[0m: name 'person1' is not defined"
     ]
    }
   ],
   "source": [
    "#9. Write a python program to take three names as input from a user in the single input () function call\n",
    "names = input(\"Enter three names: \").split()\n",
    "names[:3] = person1, person2, person3\n",
    "\n",
    "print(\"Name 1:\", person1)\n",
    "print(\"Name 2:\", person2)\n",
    "print(\"Name 3:\", person3)"
   ]
  },
  {
   "cell_type": "code",
   "execution_count": 15,
   "id": "989a9b9a",
   "metadata": {},
   "outputs": [
    {
     "name": "stdout",
     "output_type": "stream",
     "text": [
      "malayala@\n",
      "abc@b@b\n"
     ]
    }
   ],
   "source": [
    "#10. Write a Python program to get a string from a given string where all occurrences of its first char have been changed to '@', except the first char itself.\n",
    "x= \"malayalam\"\n",
    "y=x[0]\n",
    "z=y+x[1:].replace(\"m\",\"@\")\n",
    "\n",
    "a=\"abcabab\"\n",
    "b=a[0]\n",
    "c=b+a[1:].replace(\"a\",\"@\")\n",
    "\n",
    "print(z)\n",
    "print(c)"
   ]
  },
  {
   "cell_type": "code",
   "execution_count": 17,
   "id": "7931a726",
   "metadata": {},
   "outputs": [
    {
     "name": "stdout",
     "output_type": "stream",
     "text": [
      "type any word: read\n",
      "reading\n"
     ]
    }
   ],
   "source": [
    "#11. Write a Python program to add 'ing' at the end of a given string (string length should be equal to or more than 3). If the given string already ends with 'ing' then add 'ly' instead. If the string length of the given string is less than 3, leave it unchanged\n",
    "x= input(\"type any word: \")\n",
    "z=len(x)\n",
    "if z<3:\n",
    "    print(x)\n",
    "\n",
    "elif x.endswith(\"ing\"):\n",
    "    print(x+\"ly\") \n",
    "\n",
    "else: print(x+\"ing\") "
   ]
  },
  {
   "cell_type": "code",
   "execution_count": 18,
   "id": "95466252",
   "metadata": {},
   "outputs": [
    {
     "name": "stdout",
     "output_type": "stream",
     "text": [
      "Type your number: 789\n",
      "type your number: 997\n",
      "False\n"
     ]
    }
   ],
   "source": [
    "#12. Write a python program that accepts two inputs num1 and num2 print True if one of them is 10 or if their sum is 10 otherwise print False\n",
    "F_num=int(input(\"Type your number: \"))\n",
    "L_num=int(input(\"type your number: \"))\n",
    "if F_num==10 or L_num==10 or F_num+L_num==10:\n",
    "    print(True)\n",
    "else: print(False)"
   ]
  },
  {
   "cell_type": "code",
   "execution_count": 20,
   "id": "f30c642c",
   "metadata": {},
   "outputs": [
    {
     "name": "stdout",
     "output_type": "stream",
     "text": [
      "Type your number: 7\n",
      "type your number: 1\n",
      "type your number: 1\n",
      "True\n"
     ]
    }
   ],
   "source": [
    "#13. Write a python program that accepts three inputs x, y and z print True if x*y>z otherwise False\n",
    "A=int(input(\"Type your number: \"))\n",
    "B=int(input(\"type your number: \"))\n",
    "C=int(input(\"type your number: \"))\n",
    "if A*B>C:\n",
    "    print(True)\n",
    "else: print(False)"
   ]
  },
  {
   "cell_type": "code",
   "execution_count": 21,
   "id": "20d6db1d",
   "metadata": {},
   "outputs": [
    {
     "name": "stdout",
     "output_type": "stream",
     "text": [
      "type any string: \"dfgh\"\n",
      "type any string: \"dfghj\"\n"
     ]
    }
   ],
   "source": [
    "#14. Write a python program that accepts two strings inputs return True depending on whether the total number of characters in the first string is equal to the total number of characters in the second string.\n",
    "var1=input(\"type any string: \")\n",
    "var2=input(\"type any string: \")\n",
    "if len(var1) == len(var2):\n",
    "    print(True)"
   ]
  },
  {
   "cell_type": "code",
   "execution_count": 22,
   "id": "662254a1",
   "metadata": {},
   "outputs": [
    {
     "name": "stdout",
     "output_type": "stream",
     "text": [
      "type any string: dfgh\n",
      "dfgdfgdfg\n"
     ]
    }
   ],
   "source": [
    "#15. Write a python program that takes a string input, we'll say that the front is the first three characters of the string.\n",
    "#If the string length is less than three characters, the front is whatever is there.\n",
    "#Return a new string, which is three copies of the front\n",
    "var1=input(\"type any string: \")\n",
    "front = var1[:3]\n",
    "print(front*3)"
   ]
  },
  {
   "cell_type": "code",
   "execution_count": 23,
   "id": "55220fa1",
   "metadata": {},
   "outputs": [
    {
     "name": "stdout",
     "output_type": "stream",
     "text": [
      "type any string: fghj\n",
      "not a plural\n"
     ]
    }
   ],
   "source": [
    "#16. Write a python program that takes in a word and determines whether or not it is plural. \n",
    "#A plural word is one that ends in \"s\".\n",
    "var1=input(\"type any string: \")\n",
    "if var1.endswith(\"s\"):\n",
    "    print(\"plural\")\n",
    "else: print(\"not a plural\")"
   ]
  },
  {
   "cell_type": "code",
   "execution_count": 25,
   "id": "4032bcff",
   "metadata": {},
   "outputs": [
    {
     "name": "stdout",
     "output_type": "stream",
     "text": [
      "type yor age: 25\n",
      "are you on break:yes/no yes\n",
      "Do not serve drinks\n"
     ]
    }
   ],
   "source": [
    "#17. A bartender is writing a simple program to determine whether he should serve drinks to someone.\n",
    "#He only serves drinks to people 18 and older and when he's not on break (True means break and False means not a break time).\n",
    "#Given the person's age, and whether break time is in session, \n",
    "#create a python program which prints whether he should serve drinks or not.\n",
    "\n",
    "age= int(input(\"type yor age: \"))\n",
    "is_break = input(\"are you on break:yes/no \")\n",
    "         \n",
    "if age >= 18 and is_break==\"no\":\n",
    "        print( \"Serve drinks\")\n",
    "else: print( \"Do not serve drinks\")"
   ]
  },
  {
   "cell_type": "code",
   "execution_count": 26,
   "id": "09e2a58b",
   "metadata": {},
   "outputs": [],
   "source": [
    "#18.Manoj Kumar has family and friends. Help him remind them who is who. \n",
    "#Given a string with a name, return the relation of that person to Manoj Kumar."
   ]
  },
  {
   "cell_type": "code",
   "execution_count": 27,
   "id": "f70f7207",
   "metadata": {},
   "outputs": [],
   "source": [
    "#19. Write a python program that takes a string, breaks it up and returns it with vowels first, consonants second. \n",
    "#For any character that's not a vowel (like special characters or spaces), treat them like consonants"
   ]
  },
  {
   "cell_type": "code",
   "execution_count": 28,
   "id": "964bf3ef",
   "metadata": {},
   "outputs": [
    {
     "name": "stdout",
     "output_type": "stream",
     "text": [
      "type 0 to start0\n",
      "type a number8\n",
      "type a symbol +,-,*,/,//,% =-\n",
      "type a number1\n",
      "7\n",
      " press y/n to continue:y\n",
      "type a number8\n",
      "type a symbol +,-,*,/,//,% =-\n",
      "type a number2\n",
      "6\n",
      " press y/n to continue:n\n"
     ]
    }
   ],
   "source": [
    "# Create a dynamic calculator which asks for numbers and operator and return the answers\n",
    "x=input(\"type 0 to start\")\n",
    "\n",
    "while x==\"0\":\n",
    "    num1=int(input(\"type a number\"))\n",
    "    operator=input(\"type a symbol +,-,*,/,//,% =\")\n",
    "    num2=int(input(\"type a number\"))\n",
    "    \n",
    "    if operator==\"+\":\n",
    "        print(num1+num2)\n",
    "        y=input(\" press y/n to continue:\")\n",
    "    elif operator==\"-\":\n",
    "        print(num1-num2)\n",
    "        y=input(\" press y/n to continue:\")\n",
    "    \n",
    "    elif operator==\"*\":\n",
    "        print(num1*num2)\n",
    "        y=input(\" press y/n to continue:\")\n",
    "    \n",
    "    elif operator==\"/\":\n",
    "        print(num1/num2)\n",
    "        y=input(\" press y/n to continue:\")\n",
    "\n",
    "        \n",
    "    if y==\"n\":\n",
    "        break\n",
    "    \n",
    "        \n",
    "    else:\n",
    "        continue"
   ]
  },
  {
   "cell_type": "code",
   "execution_count": null,
   "id": "7c6cb1cc",
   "metadata": {},
   "outputs": [],
   "source": []
  }
 ],
 "metadata": {
  "kernelspec": {
   "display_name": "Python 3 (ipykernel)",
   "language": "python",
   "name": "python3"
  },
  "language_info": {
   "codemirror_mode": {
    "name": "ipython",
    "version": 3
   },
   "file_extension": ".py",
   "mimetype": "text/x-python",
   "name": "python",
   "nbconvert_exporter": "python",
   "pygments_lexer": "ipython3",
   "version": "3.10.9"
  }
 },
 "nbformat": 4,
 "nbformat_minor": 5
}
