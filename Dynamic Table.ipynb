{
 "cells": [
  {
   "cell_type": "code",
   "execution_count": 1,
   "id": "b49c50fe",
   "metadata": {},
   "outputs": [
    {
     "name": "stdout",
     "output_type": "stream",
     "text": [
      "which table you want5\n",
      "5*1=5\n",
      "5*2=10\n",
      "5*3=15\n",
      "5*4=20\n",
      "5*5=25\n",
      "5*6=30\n",
      "5*7=35\n",
      "5*8=40\n",
      "5*9=45\n",
      "5*10=50\n"
     ]
    }
   ],
   "source": [
    "table=int(input(\"which table you want\"))\n",
    "for p in range (1,11):\n",
    "    print(\"{}*{}={}\".format(table,p,table*p))"
   ]
  },
  {
   "cell_type": "code",
   "execution_count": 3,
   "id": "a2ce0910",
   "metadata": {},
   "outputs": [
    {
     "name": "stdout",
     "output_type": "stream",
     "text": [
      "which table do you want9\n",
      "till how much value do you want20\n",
      "9*1=9\n",
      "9*2=18\n",
      "9*3=27\n",
      "9*4=36\n",
      "9*5=45\n",
      "9*6=54\n",
      "9*7=63\n",
      "9*8=72\n",
      "9*9=81\n",
      "9*10=90\n",
      "9*11=99\n",
      "9*12=108\n",
      "9*13=117\n",
      "9*14=126\n",
      "9*15=135\n",
      "9*16=144\n",
      "9*17=153\n",
      "9*18=162\n",
      "9*19=171\n",
      "9*20=180\n"
     ]
    }
   ],
   "source": [
    "table=int(input(\"which table do you want\"))\n",
    "length=int(input(\"till how much value do you want\"))\n",
    "for x in range(1,length+1):\n",
    "    print(\"{}*{}={}\".format(table,x,table*x))"
   ]
  },
  {
   "cell_type": "code",
   "execution_count": null,
   "id": "c128c3fa",
   "metadata": {},
   "outputs": [],
   "source": []
  }
 ],
 "metadata": {
  "kernelspec": {
   "display_name": "Python 3 (ipykernel)",
   "language": "python",
   "name": "python3"
  },
  "language_info": {
   "codemirror_mode": {
    "name": "ipython",
    "version": 3
   },
   "file_extension": ".py",
   "mimetype": "text/x-python",
   "name": "python",
   "nbconvert_exporter": "python",
   "pygments_lexer": "ipython3",
   "version": "3.10.9"
  }
 },
 "nbformat": 4,
 "nbformat_minor": 5
}
