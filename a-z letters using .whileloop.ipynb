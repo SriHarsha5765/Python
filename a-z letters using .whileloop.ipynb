{
 "cells": [
  {
   "cell_type": "code",
   "execution_count": 21,
   "id": "0305c839",
   "metadata": {},
   "outputs": [
    {
     "name": "stdout",
     "output_type": "stream",
     "text": [
      "  ** \n",
      "*    *\n",
      "*    *\n",
      "*    *  *\n",
      "  **   *\n"
     ]
    }
   ],
   "source": [
    "x=0\n",
    "while x<5:\n",
    "    if x==0:\n",
    "        print(\"  ** \")\n",
    "    elif x==3:\n",
    "        print(\"*    *  *\")\n",
    "    elif x==4:\n",
    "        print(\"  **   *\")\n",
    "    else:\n",
    "        print(\"*    *\")\n",
    "    x=x+1\n",
    "        "
   ]
  },
  {
   "cell_type": "code",
   "execution_count": 36,
   "id": "3b196926",
   "metadata": {},
   "outputs": [
    {
     "name": "stdout",
     "output_type": "stream",
     "text": [
      "*    \n",
      "*    \n",
      "***  \n",
      "*   *\n",
      "*   *\n",
      "***  \n"
     ]
    }
   ],
   "source": [
    "x=0\n",
    "while x<6:\n",
    "\n",
    "    if x==2 or x==5:\n",
    "        print(\"***  \")\n",
    "    elif x==3 or x==4:\n",
    "        print(\"*   *\")\n",
    "    else:\n",
    "        print(\"*    \")\n",
    "    x=x+1\n",
    "        "
   ]
  },
  {
   "cell_type": "code",
   "execution_count": 46,
   "id": "d783358a",
   "metadata": {},
   "outputs": [
    {
     "name": "stdout",
     "output_type": "stream",
     "text": [
      "  **** \n",
      "*       \n",
      "*    \n",
      "*       \n",
      "  **** \n"
     ]
    }
   ],
   "source": [
    "x=0\n",
    "while x<5:\n",
    "    if x==0 or  x==4:\n",
    "        print(\"  **** \")\n",
    "    elif x==1 or x==3:\n",
    "        print(\"*       \")\n",
    "    else:\n",
    "        print(\"*    \")\n",
    "    x=x+1\n",
    "        "
   ]
  },
  {
   "cell_type": "code",
   "execution_count": 65,
   "id": "04aaa1ac",
   "metadata": {},
   "outputs": [
    {
     "name": "stdout",
     "output_type": "stream",
     "text": [
      "      *\n",
      "      *\n",
      "      *\n",
      "    * *\n",
      "  *   *\n",
      "  *   *\n",
      "    * *\n"
     ]
    }
   ],
   "source": [
    "x=0\n",
    "while x<7:\n",
    "    if x==0:\n",
    "        print(\"      *\")\n",
    "    elif x==3 or x==6:\n",
    "        print(\"    * *\")\n",
    "    elif x==4 or x==5:\n",
    "        print(\"  *   *\")\n",
    "    else:\n",
    "        print(\"      *\")\n",
    "    x=x+1\n",
    "        "
   ]
  },
  {
   "cell_type": "code",
   "execution_count": 101,
   "id": "5504db54",
   "metadata": {},
   "outputs": [
    {
     "name": "stdout",
     "output_type": "stream",
     "text": [
      "  **** \n",
      "*      * \n",
      "*      * \n",
      "* ****\n",
      "*\n",
      "*\n",
      " * *** \n"
     ]
    }
   ],
   "source": [
    "x=7\n",
    "while x>0:\n",
    "    if x==7:\n",
    "        print(\"  **** \")\n",
    "    elif x==6 or x==5:\n",
    "        print(\"*      * \")\n",
    "    elif x==4:\n",
    "        print(\"* ****\")\n",
    "    elif x==1:\n",
    "        print(\" * *** \")\n",
    "\n",
    "    else:\n",
    "        print(\"*\")\n",
    "\n",
    "    x=x-1\n",
    "        "
   ]
  },
  {
   "cell_type": "code",
   "execution_count": 1,
   "id": "f9391caa",
   "metadata": {},
   "outputs": [
    {
     "name": "stdout",
     "output_type": "stream",
     "text": [
      "     ***\n",
      "    *   *\n",
      "    *    \n",
      "    *    \n",
      "  ***** \n",
      "    *    \n",
      "    *    \n",
      "    *    \n",
      "    *    \n"
     ]
    }
   ],
   "source": [
    "x=7\n",
    "while x>0:\n",
    "    if x==4:\n",
    "        print(\"  ***** \")\n",
    "    if x==7:\n",
    "        print(\"     ***\")\n",
    "    if x==7:\n",
    "        print(\"    *   *\")\n",
    "    else:\n",
    "        print(\"    *    \")\n",
    "\n",
    "    x=x-1\n",
    "        "
   ]
  },
  {
   "cell_type": "code",
   "execution_count": 19,
   "id": "cea9175b",
   "metadata": {},
   "outputs": [
    {
     "name": "stdout",
     "output_type": "stream",
     "text": [
      "  *****  \n",
      "*      * \n",
      "*      * \n",
      "  ******\n",
      "       *\n",
      "*      *\n",
      " *  *** \n"
     ]
    }
   ],
   "source": [
    "x=7\n",
    "while x>0:\n",
    "    if x==7:\n",
    "        print(\"  *****  \")\n",
    "    elif x==6 or x==5:\n",
    "        print(\"*      * \")\n",
    "    elif x==4:\n",
    "        print(\"  ******\")\n",
    "    elif x==1:\n",
    "        print(\" *  *** \")\n",
    "    elif x==2:\n",
    "        print (\"*      *\")\n",
    "\n",
    "    else:\n",
    "        print(\"       *\")\n",
    "\n",
    "    x=x-1\n",
    "        "
   ]
  },
  {
   "cell_type": "code",
   "execution_count": 5,
   "id": "27aa1426",
   "metadata": {},
   "outputs": [
    {
     "name": "stdout",
     "output_type": "stream",
     "text": [
      "*      \n",
      "*      \n",
      "*      \n",
      "*      \n",
      "* ** * \n",
      "*    *\n",
      "*    *\n",
      "*    *\n"
     ]
    }
   ],
   "source": [
    "x=8\n",
    "while x>0:\n",
    "    if x==4:\n",
    "        print(\"* ** * \")\n",
    "    elif x==3 or x==2 or x==1:\n",
    "        print(\"*    *\")\n",
    "    elif x==2:\n",
    "        print(\"**\")\n",
    "    else:\n",
    "        print(\"*      \")\n",
    "    x=x-1"
   ]
  },
  {
   "cell_type": "code",
   "execution_count": 3,
   "id": "4c429a2d",
   "metadata": {},
   "outputs": [
    {
     "name": "stdout",
     "output_type": "stream",
     "text": [
      "*\n",
      " \n",
      "*\n",
      "*\n",
      "*\n",
      "*\n",
      "*\n",
      "*\n"
     ]
    }
   ],
   "source": [
    "x=8\n",
    "while x>0:\n",
    "    if x==7:\n",
    "        print(\" \")\n",
    "    else:\n",
    "        print(\"*\")\n",
    "    x=x-1"
   ]
  },
  {
   "cell_type": "code",
   "execution_count": 13,
   "id": "9607023c",
   "metadata": {},
   "outputs": [
    {
     "name": "stdout",
     "output_type": "stream",
     "text": [
      "   *\n",
      " \n",
      "   *\n",
      "   *\n",
      "   *\n",
      "   *\n",
      "*  *\n",
      " ** \n"
     ]
    }
   ],
   "source": [
    "x=8\n",
    "while x>0:\n",
    "    if x==7:\n",
    "        print(\" \")\n",
    "    elif x==1:\n",
    "        print(\" ** \")\n",
    "    elif x==2:\n",
    "        print(\"*  *\")\n",
    "    else:\n",
    "        print(\"   *\")\n",
    "    x=x-1"
   ]
  },
  {
   "cell_type": "code",
   "execution_count": 4,
   "id": "1123d813",
   "metadata": {},
   "outputs": [
    {
     "name": "stdout",
     "output_type": "stream",
     "text": [
      "*      \n",
      "*      \n",
      "*  *\n",
      "**     \n",
      "*  *\n",
      "*      \n",
      "*      \n"
     ]
    }
   ],
   "source": [
    "x=7\n",
    "while x>0:\n",
    "    if x==4:\n",
    "        print(\"**     \")\n",
    "    elif x==5 or x==3:\n",
    "        print(\"*  *\")\n",
    "    else:\n",
    "        print(\"*      \")\n",
    "    x=x-1\n",
    "        "
   ]
  },
  {
   "cell_type": "code",
   "execution_count": 8,
   "id": "8fc5ea4b",
   "metadata": {},
   "outputs": [
    {
     "name": "stdout",
     "output_type": "stream",
     "text": [
      "*\n",
      "*\n",
      "*\n",
      "*\n",
      "*\n",
      "*\n",
      "*\n",
      "*\n"
     ]
    }
   ],
   "source": [
    "x=8\n",
    "while x>0:\n",
    "    if x==1:\n",
    "        print(\"*\")\n",
    "    else:\n",
    "        print(\"*\")\n",
    "    x=x-1"
   ]
  },
  {
   "cell_type": "code",
   "execution_count": 15,
   "id": "b5b88c35",
   "metadata": {},
   "outputs": [
    {
     "name": "stdout",
     "output_type": "stream",
     "text": [
      "*\n",
      "  *  *  \n",
      "*   *   *\n",
      "*   *   *\n",
      "*   *   *\n"
     ]
    }
   ],
   "source": [
    "x=5\n",
    "while x>0:\n",
    "    if x==5:\n",
    "        print(\"*\")\n",
    "    elif x==4:\n",
    "        print(\"  *  *  \")\n",
    "    else:\n",
    "        print(\"*   *   *\")\n",
    "    x=x-1"
   ]
  },
  {
   "cell_type": "code",
   "execution_count": 17,
   "id": "216ca515",
   "metadata": {},
   "outputs": [
    {
     "name": "stdout",
     "output_type": "stream",
     "text": [
      "*\n",
      "  *  *  \n",
      "*       *\n",
      "*       *\n",
      "*       *\n"
     ]
    }
   ],
   "source": [
    "x=5\n",
    "while x>0:\n",
    "    if x==5:\n",
    "        print(\"*\")\n",
    "    elif x==4:\n",
    "        print(\"  *  *  \")\n",
    "    else:\n",
    "        print(\"*       *\")\n",
    "    x=x-1"
   ]
  },
  {
   "cell_type": "code",
   "execution_count": 21,
   "id": "403e3574",
   "metadata": {},
   "outputs": [
    {
     "name": "stdout",
     "output_type": "stream",
     "text": [
      "  *  *  \n",
      "*      *\n",
      "*      *\n",
      "*      *\n",
      "  *  *  \n"
     ]
    }
   ],
   "source": [
    "x=5\n",
    "while x>0:\n",
    "    if x==5  or x==1:\n",
    "        print(\"  *  *  \")\n",
    "    else:\n",
    "        print(\"*      *\")\n",
    "    x=x-1"
   ]
  },
  {
   "cell_type": "code",
   "execution_count": 32,
   "id": "8af1dc8e",
   "metadata": {},
   "outputs": [
    {
     "name": "stdout",
     "output_type": "stream",
     "text": [
      "*    \n",
      "*    \n",
      "**** \n",
      "*   *\n",
      "*   *\n",
      "****  \n",
      "*    \n",
      "*    \n"
     ]
    }
   ],
   "source": [
    "x=8\n",
    "while x>0:\n",
    "\n",
    "    if x==6:\n",
    "        print(\"**** \")\n",
    "    elif  x==3:\n",
    "        print(\"****  \")\n",
    "    elif x==5 or x==4:\n",
    "        print(\"*   *\")\n",
    "    else:\n",
    "        print(\"*    \")\n",
    "    x=x-1\n",
    "        "
   ]
  },
  {
   "cell_type": "code",
   "execution_count": 50,
   "id": "1dec4384",
   "metadata": {},
   "outputs": [
    {
     "name": "stdout",
     "output_type": "stream",
     "text": [
      "  * *      \n",
      "*     *    \n",
      "*     *    \n",
      "*     *    \n",
      "  * *      \n",
      "      *    \n",
      "      *    \n",
      "      *  * \n",
      "      *    \n"
     ]
    }
   ],
   "source": [
    "x=9\n",
    "while x>0:\n",
    "    if x==9  or x==5:\n",
    "        print(\"  * *      \")\n",
    "    elif x==4 or x==3 or x==1:\n",
    "        print(\"      *    \")\n",
    "    elif x==2:\n",
    "        print(\"      *  * \")\n",
    "    else:\n",
    "        print(\"*     *    \")\n",
    "    x=x-1"
   ]
  },
  {
   "cell_type": "code",
   "execution_count": 13,
   "id": "5009675c",
   "metadata": {},
   "outputs": [
    {
     "name": "stdout",
     "output_type": "stream",
     "text": [
      "*     *\n",
      " *   * \n",
      "   *   \n",
      "  * *  \n",
      "  * *  \n",
      "  * *  \n",
      "  * *  \n",
      "   *   \n"
     ]
    }
   ],
   "source": [
    "x=8\n",
    "while x>0:\n",
    "    if x==1 or x==6:\n",
    "        print(\"   *   \")\n",
    "    elif x==8:\n",
    "        print(\"*     *\")\n",
    "    elif x==7:\n",
    "        print(\" *   * \")\n",
    "    else:\n",
    "        print(\"  * *  \")\n",
    "    x=x-1"
   ]
  },
  {
   "cell_type": "code",
   "execution_count": 5,
   "id": "41974ca6",
   "metadata": {},
   "outputs": [
    {
     "name": "stdout",
     "output_type": "stream",
     "text": [
      "  * * *\n",
      "*\n",
      "  * *  \n",
      "      *\n",
      "* * *  \n"
     ]
    }
   ],
   "source": [
    "x=5\n",
    "while x>0:\n",
    "    if x==5:\n",
    "        print(\"  * * *\")\n",
    "    elif x==1:\n",
    "        print(\"* * *  \")\n",
    "        \n",
    "    elif x==3:\n",
    "        print(\"  * *  \")\n",
    "    elif x==2:\n",
    "        print(\"      *\")\n",
    "    else:\n",
    "        print(\"*\")\n",
    "    x=x-1"
   ]
  },
  {
   "cell_type": "code",
   "execution_count": 13,
   "id": "72d3cb6d",
   "metadata": {},
   "outputs": [
    {
     "name": "stdout",
     "output_type": "stream",
     "text": [
      "   *   \n",
      "  * *  \n",
      "* * * *\n",
      "  * *  \n",
      "  * *  \n",
      "   *   \n",
      " *   * \n",
      "*     *\n"
     ]
    }
   ],
   "source": [
    "x=8\n",
    "while x>0:\n",
    "    if x==8 or x==3:\n",
    "        print(\"   *   \")\n",
    "    elif x==6:\n",
    "        print(\"* * * *\")\n",
    "    elif x==1:\n",
    "        print(\"*     *\")\n",
    "    elif x==2:\n",
    "        print(\" *   * \")\n",
    "    else:\n",
    "        print(\"  * *  \")\n",
    "    x=x-1"
   ]
  },
  {
   "cell_type": "code",
   "execution_count": 23,
   "id": "d0176b23",
   "metadata": {},
   "outputs": [
    {
     "name": "stdout",
     "output_type": "stream",
     "text": [
      "*      *    \n",
      "*      *    \n",
      "*      *    \n",
      "*       *  *\n",
      "  *  *  * * \n"
     ]
    }
   ],
   "source": [
    "x=5\n",
    "while x>0:\n",
    "    if x==1 :\n",
    "        print(\"  *  *  * * \")\n",
    "    elif x==2:\n",
    "        print(\"*       *  *\")\n",
    "    else:\n",
    "        print(\"*      *    \")\n",
    "    x=x-1"
   ]
  },
  {
   "cell_type": "code",
   "execution_count": 24,
   "id": "66fa5c45",
   "metadata": {},
   "outputs": [
    {
     "name": "stdout",
     "output_type": "stream",
     "text": [
      "*     *\n",
      " *   * \n",
      "  * * \n",
      "   *\n"
     ]
    }
   ],
   "source": [
    "x=0\n",
    "while x<4:\n",
    "    if  x==0:\n",
    "        print(\"*     *\")\n",
    "    elif x==1:\n",
    "        print(\" *   * \")\n",
    "    elif x==2:\n",
    "        print(\"  * * \")\n",
    "    else:\n",
    "        print(\"   *\")\n",
    "    x=x+1"
   ]
  },
  {
   "cell_type": "code",
   "execution_count": 43,
   "id": "75126c7e",
   "metadata": {},
   "outputs": [
    {
     "name": "stdout",
     "output_type": "stream",
     "text": [
      "*         *\n",
      "*         *\n",
      "*         *\n",
      "*    *    *\n",
      "  **   **  \n"
     ]
    }
   ],
   "source": [
    "x=5\n",
    "while x>0:\n",
    "    if  x==0 or x==4:\n",
    "        print(\"*         *\")\n",
    "    elif x==5:\n",
    "        print(\"*         *\")\n",
    "    elif x==1:\n",
    "        print(\"  **   **  \")\n",
    "    elif x==3:\n",
    "        print(\"*         *\")\n",
    "    else:\n",
    "        print(\"*    *    *\")\n",
    "    x=x-1"
   ]
  },
  {
   "cell_type": "code",
   "execution_count": 14,
   "id": "c0b43d6f",
   "metadata": {},
   "outputs": [
    {
     "name": "stdout",
     "output_type": "stream",
     "text": [
      "  *       *  \n",
      "*   *   *   *\n",
      "      *     \n",
      "      *     \n",
      "*   *   *   *\n",
      "  *       *  \n"
     ]
    }
   ],
   "source": [
    "x=6\n",
    "while x>0:\n",
    "    if  x==6 or x==1:\n",
    "        print(\"  *       *  \")\n",
    "    elif x==5 or x==2:\n",
    "        print(\"*   *   *   *\")\n",
    "    else:\n",
    "        print(\"      *     \")\n",
    "    x=x-1"
   ]
  },
  {
   "cell_type": "code",
   "execution_count": 38,
   "id": "f1fe1f88",
   "metadata": {},
   "outputs": [
    {
     "name": "stdout",
     "output_type": "stream",
     "text": [
      "*      * \n",
      "*      * \n",
      "*      * \n",
      " * * * *\n",
      "       *\n",
      "*      *\n",
      "  ** **  \n"
     ]
    }
   ],
   "source": [
    "x=7\n",
    "while x>0:\n",
    "    if x==7 or x==6 or x==5:\n",
    "        print(\"*      * \")\n",
    "    elif x==4:\n",
    "        print(\" * * * *\")\n",
    "    elif x==1:\n",
    "        print(\"  ** **  \")\n",
    "    elif x==2:\n",
    "        print (\"*      *\")\n",
    "\n",
    "    else:\n",
    "        print(\"       *\")\n",
    "\n",
    "    x=x-1\n",
    "        "
   ]
  },
  {
   "cell_type": "code",
   "execution_count": 50,
   "id": "2c56ae42",
   "metadata": {},
   "outputs": [
    {
     "name": "stdout",
     "output_type": "stream",
     "text": [
      "* * * *\n",
      "      *\n",
      "   *   \n",
      "*      \n",
      "* * * *\n"
     ]
    }
   ],
   "source": [
    "x=5\n",
    "while x>0:\n",
    "    if x==5 or x==1:\n",
    "        print(\"* * * *\")\n",
    "        \n",
    "    elif x==3:\n",
    "        print(\"   *   \")\n",
    "    elif x==2:\n",
    "        print(\"*      \")\n",
    "    else:\n",
    "        print(\"      *\")\n",
    "    x=x-1"
   ]
  },
  {
   "cell_type": "code",
   "execution_count": null,
   "id": "f96e8c5d",
   "metadata": {},
   "outputs": [],
   "source": []
  }
 ],
 "metadata": {
  "kernelspec": {
   "display_name": "Python 3 (ipykernel)",
   "language": "python",
   "name": "python3"
  },
  "language_info": {
   "codemirror_mode": {
    "name": "ipython",
    "version": 3
   },
   "file_extension": ".py",
   "mimetype": "text/x-python",
   "name": "python",
   "nbconvert_exporter": "python",
   "pygments_lexer": "ipython3",
   "version": "3.10.9"
  }
 },
 "nbformat": 4,
 "nbformat_minor": 5
}
