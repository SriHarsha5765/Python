{
 "cells": [
  {
   "cell_type": "code",
   "execution_count": 10,
   "id": "73dfe177",
   "metadata": {},
   "outputs": [
    {
     "name": "stdout",
     "output_type": "stream",
     "text": [
      "####"
     ]
    }
   ],
   "source": [
    "x=0\n",
    "while x<4:\n",
    "    print(\"#\",end=\"\")\n",
    "    x=x+1"
   ]
  },
  {
   "cell_type": "code",
   "execution_count": 26,
   "id": "9407a211",
   "metadata": {},
   "outputs": [
    {
     "name": "stdout",
     "output_type": "stream",
     "text": [
      "####\n",
      "####"
     ]
    }
   ],
   "source": [
    "for i in range(4):\n",
    "    print(\"#\",end=\"\")\n",
    "print()\n",
    "\n",
    "for j in range(4):\n",
    "    print(\"#\",end=\"\")  \n"
   ]
  },
  {
   "cell_type": "code",
   "execution_count": 25,
   "id": "24d8293d",
   "metadata": {},
   "outputs": [
    {
     "name": "stdout",
     "output_type": "stream",
     "text": [
      "####\n",
      "####\n",
      "####\n",
      "####\n"
     ]
    }
   ],
   "source": [
    "\n",
    "for i in range (4):\n",
    "    for j in range (4):\n",
    "        print(\"#\",end=\"\")\n",
    "    print()"
   ]
  },
  {
   "cell_type": "code",
   "execution_count": 32,
   "id": "ed52daaa",
   "metadata": {},
   "outputs": [
    {
     "name": "stdout",
     "output_type": "stream",
     "text": [
      "####\n",
      "####\n",
      "####\n",
      "####\n",
      "####\n"
     ]
    }
   ],
   "source": [
    "for i in range(5):\n",
    "    for j in range(4):\n",
    "        print(\"#\",end=\"\")\n",
    "    print()\n"
   ]
  },
  {
   "cell_type": "code",
   "execution_count": null,
   "id": "608e5cdf",
   "metadata": {},
   "outputs": [],
   "source": [
    "#a"
   ]
  },
  {
   "cell_type": "code",
   "execution_count": 55,
   "id": "4b61408e",
   "metadata": {},
   "outputs": [
    {
     "name": "stdout",
     "output_type": "stream",
     "text": [
      "1\n",
      "22\n",
      "333\n",
      "4444\n",
      "55555"
     ]
    }
   ],
   "source": [
    "for i in range(1):\n",
    "    for a in range(1):\n",
    "        print(1)\n",
    "        for b in range(2):\n",
    "            print(\"2\",end=\"\")\n",
    "        print()   \n",
    "        for c in range(3):\n",
    "            print(\"3\",end=\"\")\n",
    "        print()\n",
    "        for d in range(4):\n",
    "            print(\"4\",end=\"\")\n",
    "        print()\n",
    "        for e in range(5):\n",
    "            print(\"5\",end=\"\")\n",
    "                \n",
    "          "
   ]
  },
  {
   "cell_type": "code",
   "execution_count": null,
   "id": "38ca7b60",
   "metadata": {},
   "outputs": [],
   "source": [
    "#B"
   ]
  },
  {
   "cell_type": "code",
   "execution_count": 65,
   "id": "f5e27129",
   "metadata": {},
   "outputs": [
    {
     "name": "stdout",
     "output_type": "stream",
     "text": [
      "1\n",
      "1 2\n",
      "1 2 3\n",
      "1 2 3 4\n",
      "1 2 3 4 5\n"
     ]
    }
   ],
   "source": [
    "for i in range(1):\n",
    "    for j in range(1):\n",
    "         print(1, end=\"\")\n",
    "    print()\n",
    "    for j in range(1):\n",
    "         print(1,2)\n",
    "    for j in range(1):\n",
    "         print(1,2,3)\n",
    "   \n",
    "    for j in range(1):\n",
    "         print(1,2,3,4)\n",
    " \n",
    "    for j in range(1):\n",
    "         print(1,2,3,4,5)\n",
    " "
   ]
  },
  {
   "cell_type": "code",
   "execution_count": null,
   "id": "33e12e41",
   "metadata": {},
   "outputs": [],
   "source": []
  },
  {
   "cell_type": "code",
   "execution_count": null,
   "id": "536b11ad",
   "metadata": {},
   "outputs": [],
   "source": [
    "c"
   ]
  },
  {
   "cell_type": "code",
   "execution_count": 28,
   "id": "05472d81",
   "metadata": {},
   "outputs": [
    {
     "name": "stdout",
     "output_type": "stream",
     "text": [
      "111111111111111\n"
     ]
    }
   ],
   "source": [
    "n=5\n",
    "for i in range(n):\n",
    "    for j in range(i,n):\n",
    "        print(\"1\",end=\"\")\n",
    "print()"
   ]
  },
  {
   "cell_type": "code",
   "execution_count": null,
   "id": "cbdfd355",
   "metadata": {},
   "outputs": [],
   "source": []
  },
  {
   "cell_type": "code",
   "execution_count": null,
   "id": "ee461397",
   "metadata": {},
   "outputs": [],
   "source": [
    "#C"
   ]
  },
  {
   "cell_type": "code",
   "execution_count": 4,
   "id": "7e262f48",
   "metadata": {},
   "outputs": [
    {
     "name": "stdout",
     "output_type": "stream",
     "text": [
      "11111\n",
      "2222\n",
      "333\n",
      "44\n",
      "5\n"
     ]
    }
   ],
   "source": [
    "n=5\n",
    "r=1\n",
    "for i in range(0,5):\n",
    "    for p in range(i,n):\n",
    "        print(r,end=\"\")\n",
    "    r=r+1\n",
    "    print()"
   ]
  },
  {
   "cell_type": "code",
   "execution_count": null,
   "id": "612b2723",
   "metadata": {},
   "outputs": [],
   "source": []
  },
  {
   "cell_type": "code",
   "execution_count": null,
   "id": "e35c8038",
   "metadata": {},
   "outputs": [],
   "source": []
  },
  {
   "cell_type": "code",
   "execution_count": null,
   "id": "0b709354",
   "metadata": {},
   "outputs": [],
   "source": []
  },
  {
   "cell_type": "code",
   "execution_count": null,
   "id": "c747b3da",
   "metadata": {},
   "outputs": [],
   "source": [
    "#d"
   ]
  },
  {
   "cell_type": "code",
   "execution_count": 1,
   "id": "f2b4d2f8",
   "metadata": {},
   "outputs": [
    {
     "name": "stdout",
     "output_type": "stream",
     "text": [
      "5 5 5 5 5 \n",
      "5 5 5 5 \n",
      "5 5 5 \n",
      "5 5 \n",
      "5 \n"
     ]
    }
   ],
   "source": [
    "n=5\n",
    "for i in range(5):\n",
    "    for j in range(i,n):\n",
    "        print(\"5\",end=\" \")\n",
    "    print()\n"
   ]
  },
  {
   "cell_type": "code",
   "execution_count": null,
   "id": "49585671",
   "metadata": {},
   "outputs": [],
   "source": []
  },
  {
   "cell_type": "code",
   "execution_count": null,
   "id": "61fa692d",
   "metadata": {},
   "outputs": [],
   "source": [
    "#e"
   ]
  },
  {
   "cell_type": "code",
   "execution_count": 8,
   "id": "8de282a1",
   "metadata": {},
   "outputs": [
    {
     "name": "stdout",
     "output_type": "stream",
     "text": [
      "s \n",
      "s s \n",
      "s s s \n",
      "s s s s \n",
      "s s s s s \n"
     ]
    }
   ],
   "source": [
    "n=5\n",
    "for i in range(n):\n",
    "    for j in range(i+1):\n",
    "        print(\"s\",end=\" \")\n",
    "    print()"
   ]
  },
  {
   "cell_type": "code",
   "execution_count": null,
   "id": "70ccfd94",
   "metadata": {},
   "outputs": [],
   "source": [
    "#o"
   ]
  },
  {
   "cell_type": "code",
   "execution_count": 36,
   "id": "25bf914e",
   "metadata": {},
   "outputs": [
    {
     "name": "stdout",
     "output_type": "stream",
     "text": [
      "*\n",
      "**\n",
      "***\n",
      "****\n",
      "*****\n"
     ]
    }
   ],
   "source": [
    "n=1\n",
    "for x in range(5):\n",
    "    for y in range(x+n):\n",
    "        print(\"*\",end=\"\")\n",
    "    print()"
   ]
  },
  {
   "cell_type": "code",
   "execution_count": null,
   "id": "48c60c16",
   "metadata": {},
   "outputs": [],
   "source": []
  },
  {
   "cell_type": "code",
   "execution_count": null,
   "id": "19e1c1f8",
   "metadata": {},
   "outputs": [],
   "source": []
  },
  {
   "cell_type": "code",
   "execution_count": null,
   "id": "173bb6e4",
   "metadata": {},
   "outputs": [],
   "source": []
  },
  {
   "cell_type": "code",
   "execution_count": null,
   "id": "5c5ea5ed",
   "metadata": {},
   "outputs": [],
   "source": [
    "#Q"
   ]
  },
  {
   "cell_type": "code",
   "execution_count": 45,
   "id": "aec9a237",
   "metadata": {},
   "outputs": [
    {
     "name": "stdout",
     "output_type": "stream",
     "text": [
      "*\n",
      "**\n",
      "***\n",
      "****\n",
      "*****\n",
      "  \n",
      " \n",
      "*****\n",
      "****\n",
      "***\n",
      "**\n",
      "*\n"
     ]
    }
   ],
   "source": [
    "n=1\n",
    "for x in range(5):\n",
    "    for y in range(x+n):\n",
    "        print(\"*\",end=\"\")\n",
    "    print()\n",
    "n=2\n",
    "for i in range(2):\n",
    "    for k in range(i,n):\n",
    "        print(\" \",end=\"\")\n",
    "    print()\n",
    "n=5\n",
    "for x in range(5):\n",
    "    for y in range(x,n):\n",
    "        print(\"*\",end=\"\")\n",
    "    print()"
   ]
  },
  {
   "cell_type": "code",
   "execution_count": null,
   "id": "39a5cd23",
   "metadata": {},
   "outputs": [],
   "source": [
    "#R"
   ]
  },
  {
   "cell_type": "code",
   "execution_count": 46,
   "id": "82697827",
   "metadata": {},
   "outputs": [
    {
     "name": "stdout",
     "output_type": "stream",
     "text": [
      "*\n",
      "**\n",
      "***\n",
      "****\n",
      "*****\n",
      "*****\n",
      "****\n",
      "***\n",
      "**\n",
      "*\n"
     ]
    }
   ],
   "source": [
    "n=1\n",
    "for x in range(5):\n",
    "    for y in range(x+n):\n",
    "        print(\"*\",end=\"\")\n",
    "    print()\n",
    "n=5\n",
    "for x in range(5):\n",
    "    for y in range(x,n):\n",
    "        print(\"*\",end=\"\")\n",
    "    print()"
   ]
  },
  {
   "cell_type": "code",
   "execution_count": null,
   "id": "cb6aff49",
   "metadata": {},
   "outputs": [],
   "source": [
    "#p"
   ]
  },
  {
   "cell_type": "code",
   "execution_count": 11,
   "id": "d887e75b",
   "metadata": {},
   "outputs": [
    {
     "name": "stdout",
     "output_type": "stream",
     "text": [
      "        #\n",
      "       ##\n",
      "      ###\n",
      "     ####\n",
      "    #####\n"
     ]
    }
   ],
   "source": [
    "n=8\n",
    "for i in range(5):\n",
    "    for k in range(i,n):\n",
    "        print(\" \",end=\"\")\n",
    "    for k in range (i+1):\n",
    "        print(\"#\",end=\"\")\n",
    "    print()\n",
    "\n",
    "\n"
   ]
  },
  {
   "cell_type": "code",
   "execution_count": null,
   "id": "340d8deb",
   "metadata": {},
   "outputs": [],
   "source": []
  },
  {
   "cell_type": "code",
   "execution_count": null,
   "id": "ab69ba25",
   "metadata": {},
   "outputs": [],
   "source": []
  },
  {
   "cell_type": "code",
   "execution_count": null,
   "id": "5990635f",
   "metadata": {},
   "outputs": [],
   "source": []
  },
  {
   "cell_type": "code",
   "execution_count": null,
   "id": "496ac4d3",
   "metadata": {},
   "outputs": [],
   "source": []
  },
  {
   "cell_type": "code",
   "execution_count": 20,
   "id": "a2361dbd",
   "metadata": {},
   "outputs": [
    {
     "name": "stdout",
     "output_type": "stream",
     "text": [
      "_____ _____ _____ _____ _____ # \n",
      "_____ _____ _____ _____ # # \n",
      "_____ _____ _____ # # # \n",
      "_____ _____ # # # # \n",
      "_____ # # # # # \n"
     ]
    }
   ],
   "source": [
    "n=5\n",
    "for w in range(5):\n",
    "    for s in range(w,n):\n",
    "        print(\"_____\",end=\" \")\n",
    "    for s in range(w+1):\n",
    "        print(\"#\",end=\" \")\n",
    "    print()\n",
    "   "
   ]
  },
  {
   "cell_type": "code",
   "execution_count": null,
   "id": "ad473e51",
   "metadata": {},
   "outputs": [],
   "source": [
    "#s"
   ]
  },
  {
   "cell_type": "code",
   "execution_count": 10,
   "id": "7430ba9c",
   "metadata": {},
   "outputs": [
    {
     "name": "stdout",
     "output_type": "stream",
     "text": [
      "_____#\n",
      "____##\n",
      "___###\n",
      "__####\n",
      "_#####\n",
      "_#####\n",
      "__####\n",
      "___###\n",
      "____##\n",
      "_____#\n"
     ]
    }
   ],
   "source": [
    "\n",
    "n=5\n",
    "for i in range(5):\n",
    "    for k in range(i,n):\n",
    "        print(\"_\",end=\"\")\n",
    "    for k in range (i+1):\n",
    "        print(\"#\",end=\"\")\n",
    "    print()\n",
    "n=5\n",
    "for i in range(5):\n",
    "    for j in range(i+1):\n",
    "        print(\"_\",end=\"\")\n",
    "    for j in range(i,n):\n",
    "        print(\"#\",end=\"\")\n",
    "    print()\n",
    " "
   ]
  },
  {
   "cell_type": "code",
   "execution_count": null,
   "id": "8d51bd95",
   "metadata": {},
   "outputs": [],
   "source": []
  },
  {
   "cell_type": "code",
   "execution_count": 35,
   "id": "cd65c8a7",
   "metadata": {},
   "outputs": [
    {
     "name": "stdout",
     "output_type": "stream",
     "text": [
      "#*******\n",
      "##******\n",
      "###*****\n",
      "####****\n",
      "#####***\n",
      "######**\n",
      "#######*\n"
     ]
    }
   ],
   "source": [
    "b=7\n",
    "for i in range(0,7):\n",
    "    for j in range(i+1):\n",
    "        print(\"#\",end=\"\")\n",
    "    #for j in range(j+1):\n",
    "       # print(\"8\",end=\"\")\n",
    "    for j in range(i,b):\n",
    "        print(\"*\",end=\"\")\n",
    "    print()\n",
    "    "
   ]
  },
  {
   "cell_type": "code",
   "execution_count": null,
   "id": "bcabdb9a",
   "metadata": {},
   "outputs": [],
   "source": [
    "#R"
   ]
  },
  {
   "cell_type": "code",
   "execution_count": 44,
   "id": "9fc17dc8",
   "metadata": {},
   "outputs": [
    {
     "name": "stdout",
     "output_type": "stream",
     "text": [
      "_*************_\n",
      "__***********__\n",
      "___*********___\n",
      "____*******____\n",
      "_____*****_____\n",
      "______***______\n",
      "_______*_______\n"
     ]
    }
   ],
   "source": [
    "b=7\n",
    "for i in range(0,7):\n",
    "    for j in range(i+1):\n",
    "        print(\"_\",end=\"\")\n",
    "    \n",
    "    for j in range(i,b-1):\n",
    "        print(\"*\",end=\"\")\n",
    "    for j in range(i,b):\n",
    "        print(\"*\",end=\"\")\n",
    "    for j in range(i+1):\n",
    "        print(\"_\",end=\"\")\n",
    "    print()"
   ]
  },
  {
   "cell_type": "code",
   "execution_count": null,
   "id": "8c9aa339",
   "metadata": {},
   "outputs": [],
   "source": []
  },
  {
   "cell_type": "code",
   "execution_count": 53,
   "id": "a0bedab8",
   "metadata": {},
   "outputs": [
    {
     "name": "stdout",
     "output_type": "stream",
     "text": [
      "_______*_______\n",
      "______***______\n",
      "_____*****_____\n",
      "____*******____\n",
      "___*********___\n",
      "__***********__\n",
      "_*************_\n"
     ]
    }
   ],
   "source": [
    "h=7\n",
    "for i in range(0,7):\n",
    "    for o in range(i,h):\n",
    "        print(\"_\",end=\"\")\n",
    "    for o in range(i+1):\n",
    "        print(\"*\",end=\"\")\n",
    "    for o in range(i):\n",
    "        print(\"*\",end=\"\")\n",
    "    for o in range(i,h):\n",
    "        print(\"_\",end=\"\")\n",
    "    print()"
   ]
  },
  {
   "cell_type": "code",
   "execution_count": null,
   "id": "ee082075",
   "metadata": {},
   "outputs": [],
   "source": [
    "#T"
   ]
  },
  {
   "cell_type": "code",
   "execution_count": 54,
   "id": "22acad1c",
   "metadata": {},
   "outputs": [
    {
     "name": "stdout",
     "output_type": "stream",
     "text": [
      "_*************_\n",
      "__***********__\n",
      "___*********___\n",
      "____*******____\n",
      "_____*****_____\n",
      "______***______\n",
      "_______*_______\n",
      "_______*_______\n",
      "______***______\n",
      "_____*****_____\n",
      "____*******____\n",
      "___*********___\n",
      "__***********__\n",
      "_*************_\n"
     ]
    }
   ],
   "source": [
    "b=7\n",
    "for i in range(0,7):\n",
    "    for j in range(i+1):\n",
    "        print(\"_\",end=\"\")\n",
    "    \n",
    "    for j in range(i,b-1):\n",
    "        print(\"*\",end=\"\")\n",
    "    for j in range(i,b):\n",
    "        print(\"*\",end=\"\")\n",
    "    for j in range(i+1):\n",
    "        print(\"_\",end=\"\")\n",
    "    print()\n",
    "h=7\n",
    "for i in range(0,7):\n",
    "    for o in range(i,h):\n",
    "        print(\"_\",end=\"\")\n",
    "    for o in range(i+1):\n",
    "        print(\"*\",end=\"\")\n",
    "    for o in range(i):\n",
    "        print(\"*\",end=\"\")\n",
    "    for o in range(i,h):\n",
    "        print(\"_\",end=\"\")\n",
    "    print()"
   ]
  },
  {
   "cell_type": "code",
   "execution_count": 13,
   "id": "14b6910b",
   "metadata": {},
   "outputs": [],
   "source": [
    "#U"
   ]
  },
  {
   "cell_type": "code",
   "execution_count": 55,
   "id": "acae2f2c",
   "metadata": {},
   "outputs": [
    {
     "name": "stdout",
     "output_type": "stream",
     "text": [
      "_______*_______\n",
      "______***______\n",
      "_____*****_____\n",
      "____*******____\n",
      "___*********___\n",
      "__***********__\n",
      "_*************_\n",
      "_*************_\n",
      "__***********__\n",
      "___*********___\n",
      "____*******____\n",
      "_____*****_____\n",
      "______***______\n",
      "_______*_______\n"
     ]
    }
   ],
   "source": [
    "h=7\n",
    "for i in range(0,7):\n",
    "    for o in range(i,h):\n",
    "        print(\"_\",end=\"\")\n",
    "    for o in range(i+1):\n",
    "        print(\"*\",end=\"\")\n",
    "    for o in range(i):\n",
    "        print(\"*\",end=\"\")\n",
    "    for o in range(i,h):\n",
    "        print(\"_\",end=\"\")\n",
    "    print()\n",
    "b=7\n",
    "for i in range(0,7):\n",
    "    for j in range(i+1):\n",
    "        print(\"_\",end=\"\")\n",
    "    \n",
    "    for j in range(i,b-1):\n",
    "        print(\"*\",end=\"\")\n",
    "    for j in range(i,b):\n",
    "        print(\"*\",end=\"\")\n",
    "    for j in range(i+1):\n",
    "        print(\"_\",end=\"\")\n",
    "    print()"
   ]
  },
  {
   "cell_type": "code",
   "execution_count": null,
   "id": "78ce401a",
   "metadata": {},
   "outputs": [],
   "source": []
  },
  {
   "cell_type": "code",
   "execution_count": 1,
   "id": "f246f0e6",
   "metadata": {},
   "outputs": [
    {
     "name": "stdout",
     "output_type": "stream",
     "text": [
      "hi\n",
      "hi\n",
      "hi\n"
     ]
    }
   ],
   "source": [
    "y=5\n",
    "while y<10:\n",
    "    print(\"hi\")\n",
    "    y=y+1\n",
    "    if y==8:\n",
    "        break\n",
    "        "
   ]
  },
  {
   "cell_type": "code",
   "execution_count": null,
   "id": "8f4234b6",
   "metadata": {},
   "outputs": [],
   "source": []
  },
  {
   "cell_type": "code",
   "execution_count": null,
   "id": "06b5f4a5",
   "metadata": {},
   "outputs": [],
   "source": []
  },
  {
   "cell_type": "code",
   "execution_count": 17,
   "id": "1c9d9463",
   "metadata": {},
   "outputs": [
    {
     "name": "stdout",
     "output_type": "stream",
     "text": [
      "1\n",
      "22\n",
      "333\n",
      "4444\n",
      "55555\n"
     ]
    }
   ],
   "source": [
    "n=5\n",
    "p=1\n",
    "for i in range(5):\n",
    "    for j in range(i+1):\n",
    "        print(p,end=\"\")\n",
    "    p=p+1\n",
    "    print()"
   ]
  },
  {
   "cell_type": "code",
   "execution_count": null,
   "id": "aa1f9794",
   "metadata": {},
   "outputs": [],
   "source": []
  },
  {
   "cell_type": "code",
   "execution_count": 18,
   "id": "cbb79bd3",
   "metadata": {},
   "outputs": [
    {
     "name": "stdout",
     "output_type": "stream",
     "text": [
      "2\n",
      "33\n",
      "444\n",
      "5555\n",
      "66666\n",
      "777777\n",
      "8888888\n"
     ]
    }
   ],
   "source": [
    "n=7\n",
    "s=1\n",
    "for i in range(7):\n",
    "    for j in range(i+1):\n",
    "        print(s+1,end=\"\")\n",
    "    s=s+1\n",
    "    print()"
   ]
  },
  {
   "cell_type": "code",
   "execution_count": null,
   "id": "05b2c8e0",
   "metadata": {},
   "outputs": [],
   "source": []
  },
  {
   "cell_type": "code",
   "execution_count": 30,
   "id": "65cbf405",
   "metadata": {},
   "outputs": [
    {
     "name": "stdout",
     "output_type": "stream",
     "text": [
      "6\n",
      "55\n",
      "444\n",
      "3333\n",
      "22222\n"
     ]
    }
   ],
   "source": [
    "n=5\n",
    "p=6\n",
    "for i in range(n):\n",
    "    for t in range(i+1):\n",
    "        print(p,end=\"\")\n",
    "    p=p-1\n",
    "    print()"
   ]
  },
  {
   "cell_type": "code",
   "execution_count": null,
   "id": "c64696f4",
   "metadata": {},
   "outputs": [],
   "source": []
  },
  {
   "cell_type": "code",
   "execution_count": 33,
   "id": "f0032e5a",
   "metadata": {},
   "outputs": [
    {
     "name": "stdout",
     "output_type": "stream",
     "text": [
      "1\n",
      "22\n",
      "111\n",
      "2222\n",
      "11111\n",
      "222222\n"
     ]
    }
   ],
   "source": [
    "m=6\n",
    "n=0\n",
    "for i in range(0,6):\n",
    "    for m in range(i+1):\n",
    "        if i%2==0:\n",
    "            print(\"1\",end=\"\")\n",
    "        else:\n",
    "            print(\"2\",end=\"\")\n",
    "    n=n+2\n",
    "    print()\n",
    "        "
   ]
  },
  {
   "cell_type": "code",
   "execution_count": null,
   "id": "a126da79",
   "metadata": {},
   "outputs": [],
   "source": []
  },
  {
   "cell_type": "code",
   "execution_count": null,
   "id": "62b10134",
   "metadata": {},
   "outputs": [],
   "source": []
  },
  {
   "cell_type": "code",
   "execution_count": null,
   "id": "3e9b7fbf",
   "metadata": {},
   "outputs": [],
   "source": [
    "#F"
   ]
  },
  {
   "cell_type": "code",
   "execution_count": 6,
   "id": "154c510a",
   "metadata": {},
   "outputs": [
    {
     "name": "stdout",
     "output_type": "stream",
     "text": [
      "1\n",
      "33\n",
      "555\n",
      "7777\n",
      "99999\n"
     ]
    }
   ],
   "source": [
    "p=5\n",
    "m=1\n",
    "for i in range(0,5):\n",
    "    for j in range(i+1):\n",
    "        print(m,end=\"\")\n",
    "    m=m+2\n",
    "    print()"
   ]
  },
  {
   "cell_type": "code",
   "execution_count": null,
   "id": "0d93c7ef",
   "metadata": {},
   "outputs": [],
   "source": []
  },
  {
   "cell_type": "code",
   "execution_count": 7,
   "id": "5d0baaec",
   "metadata": {},
   "outputs": [],
   "source": [
    "#g"
   ]
  },
  {
   "cell_type": "code",
   "execution_count": 17,
   "id": "013cef1c",
   "metadata": {},
   "outputs": [
    {
     "name": "stdout",
     "output_type": "stream",
     "text": [
      "55555\n",
      "4444\n",
      "333\n",
      "22\n",
      "1\n"
     ]
    }
   ],
   "source": [
    "h=5\n",
    "k=5\n",
    "for i in range(h):\n",
    "    for l in range(i,h):\n",
    "        print(k,end=\"\")\n",
    "    k=k-1\n",
    "    print()"
   ]
  },
  {
   "cell_type": "code",
   "execution_count": null,
   "id": "79e30a36",
   "metadata": {},
   "outputs": [],
   "source": []
  },
  {
   "cell_type": "code",
   "execution_count": 30,
   "id": "f5346ce3",
   "metadata": {},
   "outputs": [
    {
     "name": "stdout",
     "output_type": "stream",
     "text": [
      "_1\n",
      "__22\n",
      "___333\n",
      "____4444\n",
      "_____55555\n"
     ]
    }
   ],
   "source": [
    "f=5\n",
    "g=1\n",
    "for i in range(5):\n",
    "    for e in range(i+1):\n",
    "        print(\"_\",end=\"\")\n",
    "    for e in range(i+1):\n",
    "        print(g,end=\"\")\n",
    "    g=g+1\n",
    "    print()\n",
    "        "
   ]
  },
  {
   "cell_type": "code",
   "execution_count": null,
   "id": "987c9187",
   "metadata": {},
   "outputs": [],
   "source": []
  },
  {
   "cell_type": "code",
   "execution_count": 38,
   "id": "b36d5304",
   "metadata": {},
   "outputs": [
    {
     "name": "stdout",
     "output_type": "stream",
     "text": [
      "1\n",
      "12\n",
      "123\n",
      "1234\n",
      "12345\n"
     ]
    }
   ],
   "source": [
    "u=5\n",
    "for i in range(0,5):\n",
    "    p=1\n",
    "    for k in range(i+1):\n",
    "        print(p,end=\"\")\n",
    "        p+=1\n",
    "    print()"
   ]
  },
  {
   "cell_type": "code",
   "execution_count": null,
   "id": "3d6816df",
   "metadata": {},
   "outputs": [],
   "source": []
  },
  {
   "cell_type": "code",
   "execution_count": 42,
   "id": "e967e83b",
   "metadata": {},
   "outputs": [
    {
     "name": "stdout",
     "output_type": "stream",
     "text": [
      "_12345\n",
      "__1234\n",
      "___123\n",
      "____12\n",
      "_____1\n"
     ]
    }
   ],
   "source": [
    "t=5\n",
    "for i in range(t):\n",
    "    p=1\n",
    "    for k in range(i+1):\n",
    "        print(\"_\",end=\"\")\n",
    "    for k in range(i,t):\n",
    "        print(p,end=\"\")\n",
    "        p+=1\n",
    "    print()\n",
    "        "
   ]
  },
  {
   "cell_type": "code",
   "execution_count": null,
   "id": "d138e03e",
   "metadata": {},
   "outputs": [],
   "source": []
  },
  {
   "cell_type": "code",
   "execution_count": 50,
   "id": "6c689620",
   "metadata": {},
   "outputs": [
    {
     "name": "stdout",
     "output_type": "stream",
     "text": [
      "_____1\n",
      "____123\n",
      "___12345\n",
      "__1234567\n",
      "_123456789\n"
     ]
    }
   ],
   "source": [
    "n=5\n",
    "for i in range(0,5):\n",
    "    p=1\n",
    "    for k in range(i,n):\n",
    "        print(\"_\",end=\"\")\n",
    "    for k in range(i+1):\n",
    "        print(p,end=\"\")\n",
    "        p+=1\n",
    "    for k in range(i):\n",
    "        print(p,end=\"\")\n",
    "        p+=1\n",
    "    print()\n",
    "        "
   ]
  },
  {
   "cell_type": "code",
   "execution_count": null,
   "id": "0b8460a7",
   "metadata": {},
   "outputs": [],
   "source": []
  },
  {
   "cell_type": "code",
   "execution_count": 53,
   "id": "72ef3930",
   "metadata": {},
   "outputs": [
    {
     "name": "stdout",
     "output_type": "stream",
     "text": [
      "1\n",
      "12\n",
      "123\n",
      "1234\n",
      "12345\n"
     ]
    }
   ],
   "source": [
    "o=5\n",
    "for t in range(0,5):\n",
    "    p=1\n",
    "    for k in range(t+1):\n",
    "        print(p,end=\"\")\n",
    "        p+=1\n",
    "    print()\n",
    "    "
   ]
  },
  {
   "cell_type": "code",
   "execution_count": null,
   "id": "e50a17d3",
   "metadata": {},
   "outputs": [],
   "source": []
  },
  {
   "cell_type": "code",
   "execution_count": null,
   "id": "d5c96fd4",
   "metadata": {},
   "outputs": [],
   "source": []
  }
 ],
 "metadata": {
  "kernelspec": {
   "display_name": "Python 3 (ipykernel)",
   "language": "python",
   "name": "python3"
  },
  "language_info": {
   "codemirror_mode": {
    "name": "ipython",
    "version": 3
   },
   "file_extension": ".py",
   "mimetype": "text/x-python",
   "name": "python",
   "nbconvert_exporter": "python",
   "pygments_lexer": "ipython3",
   "version": "3.10.9"
  }
 },
 "nbformat": 4,
 "nbformat_minor": 5
}
